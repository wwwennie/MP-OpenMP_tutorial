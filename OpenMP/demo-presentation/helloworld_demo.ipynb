{
 "cells": [
  {
   "cell_type": "markdown",
   "metadata": {
    "slideshow": {
     "slide_type": "slide"
    }
   },
   "source": [
    "<h1><center><font size=\"+4\"> OpenMP Demo 1: Hello World</font></center></h1>\n",
    "=============================\n",
    "\n",
    "<font size=\"+2\"> Basic demonstration of OpenMP <br/></font>\n",
    "<br/>\n",
    "<font size=\"+2\"><p>Concepts we will learn </p></font>\n",
    "<font size=\"+2\"><ul>\n",
    "  <li>How threads work</li>\n",
    "  <li>Master v worker threads</li>\n",
    "  <li>Synchronization</li>\n",
    "</ul></font>\n"
   ]
  },
  {
   "cell_type": "markdown",
   "metadata": {
    "slideshow": {
     "slide_type": "slide"
    }
   },
   "source": [
    "\n",
    "<h2><center><font size=\"+2\"> Parallelizing the code </font></center></h2>\n",
    "<br/>\n",
    "<font size=\"+2\">We will use `C++` in the following example.</font><br/>\n",
    "<font size=\"+2\">Let's look at the code in serial.</font>\n",
    "<br/>\n",
    "\n",
    "\n",
    "```cpp\n",
    "/*@TODO: Include the OpenMP header file */\n",
    "\n",
    "#include <iostream>\n",
    "#include <sstream>\n",
    "\n",
    "int main(int argc, char *argv[])\n",
    "{\n",
    "\n",
    "    /* @TODO: Insert OpenMP pragma to make the following code block parallel */\n",
    "    {\n",
    "        std::stringstream ss;\n",
    "\n",
    "        /*\n",
    "         * @TODO: Get the individual thread number in 'id'\n",
    "         * using a runtime routine\n",
    "         */\n",
    "        int id = 0;\n",
    "\n",
    "        /* Print Hello world from each thread */\n",
    "        ss << \"Hello World from thread \"<< id << std::endl;\n",
    "        std::cout << ss.str();\n",
    "        ss.str(\"\");\n",
    "\n",
    "        /*\n",
    "         * @TODO: Make absolutely sure each thread has printed \"Hello World\",\n",
    "         * before we move forward\n",
    "         */\n",
    "\n",
    "        /* @TODO: Now get the master thread to identify itself! */\n",
    "        ss << \"Hi, I am MASTER, my id is always \" << id << std::endl;\n",
    "        std::cout << ss.str();\n",
    "        ss.str(\"\");\n",
    "\n",
    "        /*\n",
    "         * Now print Hello OpenMP from each thread\n",
    "         * (after all everybody needs to learn OpenMP!)\n",
    "         */\n",
    "        ss << \"Hello OpenMP from thread \" << id << std::endl;\n",
    "        std::cout << ss.str();\n",
    "    }\n",
    "\n",
    "    return 0;\n",
    "}\n",
    "\n",
    "```\n"
   ]
  },
  {
   "cell_type": "markdown",
   "metadata": {
    "slideshow": {
     "slide_type": "subslide"
    }
   },
   "source": [
    "<font size=\"+2\">Let's look at the same code with OpenMP directives.</font>\n",
    "\n",
    "```cpp\n",
    "/* Including the OpenMP header file */\n",
    "#include <omp.h>\n",
    "\n",
    "#include <iostream>\n",
    "#include <sstream>\n",
    "\n",
    "\n",
    "int main (int argc, char *argv[])\n",
    "{\n",
    "    /* Inserting OpenMP pragma to make the following code block parallel */\n",
    "    #pragma omp parallel\n",
    "    {\n",
    "        std::stringstream ss;\n",
    "\n",
    "        /*\n",
    "         * Getting the individual thread number in 'id'\n",
    "         * using a runtime routine\n",
    "         */\n",
    "        int id = omp_get_thread_num();\n",
    "\n",
    "        /* Print Hello world from each thread */\n",
    "        ss << \"Hello World from thread \"<< id << std::endl;\n",
    "        std::cout << ss.str();\n",
    "        ss.str(\"\");\n",
    "\n",
    "        /*\n",
    "         * Making sure each thread has printed \"Hello World\",\n",
    "         * before we move forward\n",
    "         */\n",
    "\n",
    "        #pragma omp barrier\n",
    "\n",
    "        /* Making the master thread to identify itself! */\n",
    "        #pragma omp master\n",
    "        {\n",
    "            ss << \"Hi, I am MASTER, my id is always \"<< id << std::endl;\n",
    "            std::cout << ss.str();\n",
    "            ss.str(\"\");\n",
    "        }\n",
    "\n",
    "        /*\n",
    "         * Now print Hello OpenMP from each thread\n",
    "         * (after all everybody needs to learn OpenMP!)\n",
    "         */\n",
    "        ss << \"Hello OpenMP from thread \"<< id << std::endl;\n",
    "        std::cout << ss.str();\n",
    "    }\n",
    "\n",
    "    return 0;\n",
    "}\n",
    "\n",
    "```"
   ]
  },
  {
   "cell_type": "markdown",
   "metadata": {
    "slideshow": {
     "slide_type": "slide"
    }
   },
   "source": [
    "<h2><center><font size=\"+2\"> Compiling </font></center></h2>\n",
    "<br/>\n",
    "\n",
    "```\n",
    "-> wwwennie@knot:~ cd OpenMP_tut/hello_world\n",
    "-> wwwennie@knot:~/OpenMP_tut/hello_world make\n",
    "g++ -fopenmp -Wall -o cpp_exercise_hello_world.x cpp_exercise_hello_world.cpp\n",
    "g++ -fopenmp -Wall -o cpp_solution_hello_world.x cpp_solution_hello_world.cpp\n",
    "```\n"
   ]
  },
  {
   "cell_type": "markdown",
   "metadata": {
    "slideshow": {
     "slide_type": "subslide"
    }
   },
   "source": [
    "\n",
    "```cpp\n",
    "#\n",
    "# Choose compiler with \"make compiler=NAME\" or just \"make\" to use\n",
    "# default of GNU compilers.\n",
    "#\n",
    "\n",
    "ifeq ($(compiler), intel)\t# begin compiler check\n",
    "\n",
    "CC              = icc\n",
    "CFLAGS          = -qopenmp -Wall\n",
    "\n",
    "CXX             = icpc\n",
    "CXXFLAGS        = -qopenmp -Wall\n",
    "\n",
    "FC              = ifort\n",
    "FFLAGS          = -qopenmp\n",
    "\n",
    "else ifeq ($(compiler), cray)\n",
    "\n",
    "...\n",
    "\n",
    "end if\t\t\t\t# end compiler check\n",
    "\n",
    "C_SOURCES       = $(wildcard *.c)\n",
    "CPP_SOURCES     = $(wildcard *.cpp)\n",
    "FORTRAN_SOURCES = $(wildcard *.f90)\n",
    "SOURCES         = $(C_SOURCES) $(CPP_SOURCES) $(FORTRAN_SOURCES)\n",
    "\n",
    "C_TARGETS       = $(C_SOURCES:.c=.x)\n",
    "CPP_TARGETS     = $(CPP_SOURCES:.cpp=.x)\n",
    "FORTRAN_TARGETS = $(FORTRAN_SOURCES:.f90=.x)\n",
    "TARGETS         = $(C_TARGETS) $(CPP_TARGETS) $(FORTRAN_TARGETS)\n",
    "\n",
    ".PHONY: all     clean\n",
    "\n",
    "all:    $(TARGETS)\n",
    "\n",
    "clean: \n",
    "\trm -f $(TARGETS)\n",
    "\n",
    ".SUFFIXES: .x \n",
    "\n",
    "%.x: %.cpp\n",
    "\t$(CXX) $(CXXFLAGS) -o $@ $^\n",
    "\n",
    "%.x: %.c\n",
    "\t$(CC) $(CFLAGS) -o $@ $^\n",
    "\n",
    "%.x: %.f90\n",
    "\t$(FC) $(FFLAGS) -o $@ $^\n",
    "\n",
    "\n",
    "```\n"
   ]
  },
  {
   "cell_type": "markdown",
   "metadata": {
    "slideshow": {
     "slide_type": "slide"
    }
   },
   "source": [
    "<h2><center><font size=\"+2\"> Running and Output </font></center></h2>\n",
    "\n",
    "\n",
    "```\n",
    "wwwennie@knot:~/OpenMP_tut/hello_world$ cat job.hello\n",
    "```\n",
    "\n",
    "```bash\n",
    "#!/bin/bash\n",
    "#PBS -l nodes=1:ppn=1\n",
    "#PBS -l walltime=00:10:00\n",
    "#PBS -j oe\n",
    "#PBS -V\n",
    "cd $PBS_O_WORKDIR\n",
    "export OMP_NUM_THREADS = 12\n",
    "mpirun ./c_solution_hello_world.x \n",
    "```\n",
    "\n",
    "```\n",
    "wwwennie@knot:~/OpenMP_tut/hello_world$ qsub job.hello\n",
    "```"
   ]
  },
  {
   "cell_type": "markdown",
   "metadata": {
    "slideshow": {
     "slide_type": "fragment"
    }
   },
   "source": [
    "```\n",
    "Hello World from thread 4\n",
    "Hello World from thread 8\n",
    "Hello World from thread 9\n",
    "Hello World from thread 11\n",
    "Hello World from thread 10\n",
    "Hello World from thread 5\n",
    "Hello World from thread 3\n",
    "Hello World from thread 7\n",
    "Hello World from thread 0\n",
    "Hello World from thread 6\n",
    "Hello World from thread 1\n",
    "Hello World from thread 2\n",
    "Hello OpenMP from thread 1\n",
    "Hello OpenMP from thread 6\n",
    "Hello OpenMP from thread 2\n",
    "Hello OpenMP from thread 4\n",
    "Hello OpenMP from thread 8\n",
    "Hello OpenMP from thread 9\n",
    "Hello OpenMP from thread 11\n",
    "Hello OpenMP from thread 5\n",
    "Hello OpenMP from thread 3\n",
    "Hello OpenMP from thread 7\n",
    "Hello OpenMP from thread 10\n",
    "Hi, I am MASTER, my id is always 0\n",
    "Hello OpenMP from thread 0\n",
    "```"
   ]
  }
 ],
 "metadata": {
  "celltoolbar": "Edit Metadata",
  "kernelspec": {
   "display_name": "Python 2",
   "language": "python",
   "name": "python2"
  },
  "language_info": {
   "codemirror_mode": {
    "name": "ipython",
    "version": 2
   },
   "file_extension": ".py",
   "mimetype": "text/x-python",
   "name": "python",
   "nbconvert_exporter": "python",
   "pygments_lexer": "ipython2",
   "version": "2.7.13"
  }
 },
 "nbformat": 4,
 "nbformat_minor": 1
}
